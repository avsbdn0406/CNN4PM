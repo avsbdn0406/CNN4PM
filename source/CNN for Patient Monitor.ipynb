{
 "cells": [
  {
   "cell_type": "markdown",
   "metadata": {},
   "source": [
    "# CNN for Patient Monitor\n",
    "---\n",
    "to save model"
   ]
  },
  {
   "cell_type": "code",
   "execution_count": 2,
   "metadata": {},
   "outputs": [
    {
     "ename": "ModuleNotFoundError",
     "evalue": "No module named 'PIL'",
     "output_type": "error",
     "traceback": [
      "\u001b[0;31m---------------------------------------------------------------------------\u001b[0m",
      "\u001b[0;31mModuleNotFoundError\u001b[0m                       Traceback (most recent call last)",
      "\u001b[0;32m<ipython-input-2-6bf0c38c4343>\u001b[0m in \u001b[0;36m<module>\u001b[0;34m()\u001b[0m\n\u001b[1;32m     14\u001b[0m \u001b[0;32mimport\u001b[0m \u001b[0mglob\u001b[0m\u001b[0;34m\u001b[0m\u001b[0m\n\u001b[1;32m     15\u001b[0m \u001b[0;32mimport\u001b[0m \u001b[0mpandas\u001b[0m \u001b[0;32mas\u001b[0m \u001b[0mpd\u001b[0m\u001b[0;34m\u001b[0m\u001b[0m\n\u001b[0;32m---> 16\u001b[0;31m \u001b[0;32mfrom\u001b[0m \u001b[0mPIL\u001b[0m \u001b[0;32mimport\u001b[0m \u001b[0mImage\u001b[0m\u001b[0;34m\u001b[0m\u001b[0m\n\u001b[0m\u001b[1;32m     17\u001b[0m \u001b[0;32mimport\u001b[0m \u001b[0mcsv\u001b[0m\u001b[0;34m\u001b[0m\u001b[0m\n\u001b[1;32m     18\u001b[0m \u001b[0;32mimport\u001b[0m \u001b[0mcv2\u001b[0m\u001b[0;34m\u001b[0m\u001b[0m\n",
      "\u001b[0;31mModuleNotFoundError\u001b[0m: No module named 'PIL'"
     ]
    }
   ],
   "source": [
    "# Introductory CNN Model: MNIST Digits\n",
    "#---------------------------------------\n",
    "#\n",
    "# In this example, we will download the MNIST handwritten\n",
    "# digits and create a simple CNN network to predict the\n",
    "# digit category (0-9)\n",
    "\n",
    "import matplotlib.pyplot as plt\n",
    "import numpy as np\n",
    "import tensorflow as tf\n",
    "from tensorflow.contrib.learn.python.learn.datasets.mnist import read_data_sets\n",
    "from tensorflow.python.framework import ops\n",
    "\n",
    "import glob\n",
    "import pandas as pd\n",
    "from PIL import Image\n",
    "import csv\n",
    "import cv2\n",
    "import random\n",
    "\n",
    "ops.reset_default_graph()\n"
   ]
  },
  {
   "cell_type": "code",
   "execution_count": 4,
   "metadata": {},
   "outputs": [
    {
     "name": "stdout",
     "output_type": "stream",
     "text": [
      "(28, 28)\n"
     ]
    }
   ],
   "source": [
    "# Start a graph session\n",
    "sess = tf.Session()\n",
    "\n",
    "# Load data\n",
    "data_dir = glob.glob('D:/Eun/CNN4PM/data/ML_Patient monitor data/RCM/PR/1/*.jpg')\n",
    "data = []              # image dataset array\n",
    "length = 0\n",
    "for x in data_dir:\n",
    "    data_img = Image.open(x)\n",
    "    data.append(np.asarray(data_img, dtype=\"int32\" ))\n",
    "\n",
    "data = np.asarray(data,dtype=\"int32\")\n",
    "print(data[100].shape)\n",
    "\n",
    "#data = np.expand_dims(data_temp, 0)\n",
    "#data = np.array([np.reshape(length, (28,28)) for x in data_temp])\n",
    "#print(type(data_temp.shape))\n"
   ]
  },
  {
   "cell_type": "code",
   "execution_count": 25,
   "metadata": {
    "scrolled": true
   },
   "outputs": [
    {
     "data": {
      "text/plain": [
       "0"
      ]
     },
     "execution_count": 25,
     "metadata": {},
     "output_type": "execute_result"
    }
   ],
   "source": [
    "label = pd.read_csv('D:/Eun/CNN4PM/data/ML_Patient monitor data/RCM_PR_1.CSV')\n",
    "label['label'][14]"
   ]
  },
  {
   "cell_type": "code",
   "execution_count": 6,
   "metadata": {},
   "outputs": [],
   "source": [
    "# Convert images into 28x28 (they are downloaded as 1x784)\n",
    "train_xdata = np.array([np.reshape(x,(28,28)) for x in data])\n",
    "#test_xdata = np.array([np.reshape(x, (28,28)) for x in mnist.test.images])\n"
   ]
  },
  {
   "cell_type": "code",
   "execution_count": 7,
   "metadata": {},
   "outputs": [],
   "source": [
    "# Set model parameters\n",
    "batch_size = 100\n",
    "learning_rate = 0.005\n",
    "evaluation_size = 500\n",
    "image_width = 28\n",
    "image_height = 28\n",
    "target_size = max(label['label']) + 1\n",
    "num_channels = 1 # greyscale = 1 channel\n",
    "generations = 500\n",
    "eval_every = 5\n",
    "conv1_features = 25\n",
    "conv2_features = 50\n",
    "max_pool_size1 = 2 # NxN window for 1st max pool layer\n",
    "max_pool_size2 = 2 # NxN window for 2nd max pool layer\n",
    "fully_connected_size1 = 100"
   ]
  },
  {
   "cell_type": "code",
   "execution_count": 8,
   "metadata": {},
   "outputs": [],
   "source": [
    "# Declare model placeholders\n",
    "x_input_shape = (batch_size, image_width, image_height, num_channels)\n",
    "x_input = tf.placeholder(tf.float32, shape=x_input_shape)\n",
    "y_target = tf.placeholder(tf.int32, shape=(batch_size))"
   ]
  },
  {
   "cell_type": "code",
   "execution_count": 9,
   "metadata": {},
   "outputs": [],
   "source": [
    "#eval_input_shape = (evaluation_size, image_width, image_height, num_channels)\n",
    "#eval_input = tf.placeholder(tf.float32, shape=eval_input_shape)\n",
    "#eval_target = tf.placeholder(tf.int32, shape=(evaluation_size))"
   ]
  },
  {
   "cell_type": "code",
   "execution_count": 10,
   "metadata": {},
   "outputs": [],
   "source": [
    "# Declare model parameters\n",
    "conv1_weight = tf.Variable(tf.truncated_normal([4, 4, num_channels, conv1_features],\n",
    "                                               stddev=0.1, dtype=tf.float32),name = \"conv1_weight\")\n",
    "conv1_bias = tf.Variable(tf.zeros([conv1_features], dtype=tf.float32),name = \"conv1_bias\")\n",
    "\n",
    "conv2_weight = tf.Variable(tf.truncated_normal([4, 4, conv1_features, conv2_features],\n",
    "                                               stddev=0.1, dtype=tf.float32),name = \"conv2_weight\")\n",
    "conv2_bias = tf.Variable(tf.zeros([conv2_features], dtype=tf.float32),name = \"conv2_bias\")"
   ]
  },
  {
   "cell_type": "code",
   "execution_count": 11,
   "metadata": {},
   "outputs": [],
   "source": [
    "# fully connected variables\n",
    "resulting_width = image_width // (max_pool_size1 * max_pool_size2)\n",
    "resulting_height = image_height // (max_pool_size1 * max_pool_size2)\n",
    "full1_input_size = resulting_width * resulting_height * conv2_features"
   ]
  },
  {
   "cell_type": "code",
   "execution_count": 12,
   "metadata": {},
   "outputs": [],
   "source": [
    "full1_weight = tf.Variable(tf.truncated_normal([full1_input_size, fully_connected_size1],\n",
    "                          stddev=0.1, dtype=tf.float32), name = \"full1_weight\")\n",
    "full1_bias = tf.Variable(tf.truncated_normal([fully_connected_size1], stddev=0.1, dtype=tf.float32), name = \"full1_bias\")\n",
    "full2_weight = tf.Variable(tf.truncated_normal([fully_connected_size1, target_size],\n",
    "                                               stddev=0.1, dtype=tf.float32), name = \"full2_weight\")\n",
    "full2_bias = tf.Variable(tf.truncated_normal([target_size], stddev=0.1, dtype=tf.float32), name = \"full2_bias\")"
   ]
  },
  {
   "cell_type": "code",
   "execution_count": 13,
   "metadata": {},
   "outputs": [],
   "source": [
    "# Initialize Model Operations\n",
    "def my_conv_net(input_data):\n",
    "    # First Conv-ReLU-MaxPool Layer\n",
    "    conv1 = tf.nn.conv2d(input_data, conv1_weight, strides=[1, 1, 1, 1], padding='SAME',)\n",
    "    relu1 = tf.nn.relu(tf.nn.bias_add(conv1, conv1_bias))\n",
    "    max_pool1 = tf.nn.max_pool(relu1, ksize=[1, max_pool_size1, max_pool_size1, 1],\n",
    "                               strides=[1, max_pool_size1, max_pool_size1, 1], padding='SAME')\n",
    "\n",
    "    # Second Conv-ReLU-MaxPool Layer\n",
    "    conv2 = tf.nn.conv2d(max_pool1, conv2_weight, strides=[1, 1, 1, 1], padding='SAME')\n",
    "    relu2 = tf.nn.relu(tf.nn.bias_add(conv2, conv2_bias))\n",
    "    max_pool2 = tf.nn.max_pool(relu2, ksize=[1, max_pool_size2, max_pool_size2, 1],\n",
    "                               strides=[1, max_pool_size2, max_pool_size2, 1], padding='SAME')\n",
    "\n",
    "    # Transform Output into a 1xN layer for next fully connected layer\n",
    "    final_conv_shape = max_pool2.get_shape().as_list()\n",
    "    final_shape = final_conv_shape[1] * final_conv_shape[2] * final_conv_shape[3]\n",
    "    flat_output = tf.reshape(max_pool2, [final_conv_shape[0], final_shape])\n",
    "\n",
    "    # First Fully Connected Layer\n",
    "    fully_connected1 = tf.nn.relu(tf.add(tf.matmul(flat_output, full1_weight), full1_bias))\n",
    "\n",
    "    # Second Fully Connected Layer\n",
    "    final_model_output = tf.add(tf.matmul(fully_connected1, full2_weight), full2_bias)\n",
    "    \n",
    "    return(final_model_output)"
   ]
  },
  {
   "cell_type": "code",
   "execution_count": 14,
   "metadata": {},
   "outputs": [],
   "source": [
    "model_output = my_conv_net(x_input)                # training\n",
    "\n",
    "# Declare Loss Function (softmax cross entropy)\n",
    "loss = tf.reduce_mean(tf.nn.sparse_softmax_cross_entropy_with_logits(labels=y_target, logits=model_output))\n"
   ]
  },
  {
   "cell_type": "markdown",
   "metadata": {},
   "source": [
    "# Prediction Function\n",
    "---\n",
    "model output을 function의 input으로"
   ]
  },
  {
   "cell_type": "code",
   "execution_count": 15,
   "metadata": {},
   "outputs": [],
   "source": [
    "# Create a prediction function\n",
    "prediction = tf.nn.softmax(model_output,name = 'prediction')               #to training set\n"
   ]
  },
  {
   "cell_type": "code",
   "execution_count": 16,
   "metadata": {},
   "outputs": [],
   "source": [
    "# Create accuracy function\n",
    "def get_accuracy(logits, targets):\n",
    "    batch_predictions = np.argmax(logits, axis=1)\n",
    "    num_correct = np.sum(np.equal(batch_predictions, targets))\n",
    "    return(100. * num_correct/batch_predictions.shape[0])\n"
   ]
  },
  {
   "cell_type": "code",
   "execution_count": 17,
   "metadata": {},
   "outputs": [],
   "source": [
    "# Create an optimizer\n",
    "my_optimizer = tf.train.MomentumOptimizer(learning_rate, 0.9)\n",
    "train_step = my_optimizer.minimize(loss)\n",
    "\n",
    "\n",
    "# Initialize Variables\n",
    "init = tf.global_variables_initializer()\n",
    "sess.run(init)"
   ]
  },
  {
   "cell_type": "code",
   "execution_count": 18,
   "metadata": {},
   "outputs": [],
   "source": [
    "# ========= Save models =============\n",
    "saver = tf.train.Saver()\n"
   ]
  },
  {
   "cell_type": "code",
   "execution_count": 26,
   "metadata": {
    "scrolled": true
   },
   "outputs": [
    {
     "name": "stdout",
     "output_type": "stream",
     "text": [
      "Generation # 5. Train Loss: 2.28. Train Acc : 15.00 \n",
      "Generation # 10. Train Loss: 2.26. Train Acc : 16.00 \n",
      "Generation # 15. Train Loss: 2.28. Train Acc : 9.00 \n",
      "Generation # 20. Train Loss: 2.29. Train Acc : 12.00 \n",
      "Generation # 25. Train Loss: 2.28. Train Acc : 13.00 \n",
      "Generation # 30. Train Loss: 2.29. Train Acc : 10.00 \n",
      "Generation # 35. Train Loss: 2.27. Train Acc : 14.00 \n",
      "Generation # 40. Train Loss: 2.24. Train Acc : 16.00 \n",
      "Generation # 45. Train Loss: 2.26. Train Acc : 17.00 \n",
      "Generation # 50. Train Loss: 2.25. Train Acc : 12.00 \n",
      "Generation # 55. Train Loss: 2.27. Train Acc : 15.00 \n",
      "Generation # 60. Train Loss: 2.27. Train Acc : 14.00 \n",
      "Generation # 65. Train Loss: 2.27. Train Acc : 12.00 \n",
      "Generation # 70. Train Loss: 2.28. Train Acc : 15.00 \n",
      "Generation # 75. Train Loss: 2.27. Train Acc : 15.00 \n",
      "Generation # 80. Train Loss: 2.28. Train Acc : 15.00 \n",
      "Generation # 85. Train Loss: 2.26. Train Acc : 17.00 \n",
      "Generation # 90. Train Loss: 2.29. Train Acc : 13.00 \n",
      "Generation # 95. Train Loss: 2.31. Train Acc : 19.00 \n",
      "Generation # 100. Train Loss: 2.29. Train Acc : 13.00 \n",
      "Generation # 105. Train Loss: 2.31. Train Acc : 14.00 \n",
      "Generation # 110. Train Loss: 2.31. Train Acc : 14.00 \n",
      "Generation # 115. Train Loss: 2.31. Train Acc : 13.00 \n",
      "Generation # 120. Train Loss: 2.27. Train Acc : 17.00 \n",
      "Generation # 125. Train Loss: 2.24. Train Acc : 16.00 \n",
      "Generation # 130. Train Loss: 2.29. Train Acc : 17.00 \n",
      "Generation # 135. Train Loss: 2.24. Train Acc : 19.00 \n",
      "Generation # 140. Train Loss: 2.28. Train Acc : 12.00 \n",
      "Generation # 145. Train Loss: 2.29. Train Acc : 10.00 \n",
      "Generation # 150. Train Loss: 2.27. Train Acc : 14.00 \n",
      "Generation # 155. Train Loss: 2.23. Train Acc : 18.00 \n",
      "Generation # 160. Train Loss: 2.26. Train Acc : 18.00 \n",
      "Generation # 165. Train Loss: 2.26. Train Acc : 15.00 \n",
      "Generation # 170. Train Loss: 2.26. Train Acc : 17.00 \n",
      "Generation # 175. Train Loss: 2.30. Train Acc : 18.00 \n",
      "Generation # 180. Train Loss: 2.22. Train Acc : 20.00 \n",
      "Generation # 185. Train Loss: 2.28. Train Acc : 12.00 \n",
      "Generation # 190. Train Loss: 2.30. Train Acc : 10.00 \n",
      "Generation # 195. Train Loss: 2.28. Train Acc : 10.00 \n",
      "Generation # 200. Train Loss: 2.23. Train Acc : 26.00 \n",
      "Generation # 205. Train Loss: 2.27. Train Acc : 10.00 \n",
      "Generation # 210. Train Loss: 2.24. Train Acc : 14.00 \n",
      "Generation # 215. Train Loss: 2.33. Train Acc : 8.00 \n",
      "Generation # 220. Train Loss: 2.27. Train Acc : 12.00 \n",
      "Generation # 225. Train Loss: 2.24. Train Acc : 16.00 \n",
      "Generation # 230. Train Loss: 2.26. Train Acc : 18.00 \n",
      "Generation # 235. Train Loss: 2.26. Train Acc : 17.00 \n",
      "Generation # 240. Train Loss: 2.28. Train Acc : 15.00 \n",
      "Generation # 245. Train Loss: 2.27. Train Acc : 12.00 \n",
      "Generation # 250. Train Loss: 2.25. Train Acc : 23.00 \n",
      "Generation # 255. Train Loss: 2.25. Train Acc : 14.00 \n",
      "Generation # 260. Train Loss: 2.29. Train Acc : 12.00 \n",
      "Generation # 265. Train Loss: 2.25. Train Acc : 16.00 \n",
      "Generation # 270. Train Loss: 2.24. Train Acc : 15.00 \n",
      "Generation # 275. Train Loss: 2.28. Train Acc : 18.00 \n",
      "Generation # 280. Train Loss: 2.22. Train Acc : 24.00 \n",
      "Generation # 285. Train Loss: 2.27. Train Acc : 13.00 \n",
      "Generation # 290. Train Loss: 2.27. Train Acc : 13.00 \n",
      "Generation # 295. Train Loss: 2.28. Train Acc : 19.00 \n",
      "Generation # 300. Train Loss: 2.28. Train Acc : 13.00 \n",
      "Generation # 305. Train Loss: 2.30. Train Acc : 14.00 \n",
      "Generation # 310. Train Loss: 2.31. Train Acc : 17.00 \n",
      "Generation # 315. Train Loss: 2.33. Train Acc : 16.00 \n",
      "Generation # 320. Train Loss: 2.27. Train Acc : 15.00 \n",
      "Generation # 325. Train Loss: 2.27. Train Acc : 16.00 \n",
      "Generation # 330. Train Loss: 2.24. Train Acc : 19.00 \n",
      "Generation # 335. Train Loss: 2.26. Train Acc : 17.00 \n",
      "Generation # 340. Train Loss: 2.30. Train Acc : 14.00 \n",
      "Generation # 345. Train Loss: 2.27. Train Acc : 14.00 \n",
      "Generation # 350. Train Loss: 2.28. Train Acc : 13.00 \n",
      "Generation # 355. Train Loss: 2.30. Train Acc : 13.00 \n",
      "Generation # 360. Train Loss: 2.27. Train Acc : 16.00 \n",
      "Generation # 365. Train Loss: 2.25. Train Acc : 24.00 \n",
      "Generation # 370. Train Loss: 2.27. Train Acc : 9.00 \n",
      "Generation # 375. Train Loss: 2.27. Train Acc : 18.00 \n",
      "Generation # 380. Train Loss: 2.27. Train Acc : 17.00 \n",
      "Generation # 385. Train Loss: 2.28. Train Acc : 17.00 \n",
      "Generation # 390. Train Loss: 2.24. Train Acc : 15.00 \n",
      "Generation # 395. Train Loss: 2.25. Train Acc : 12.00 \n",
      "Generation # 400. Train Loss: 2.27. Train Acc : 19.00 \n",
      "Generation # 405. Train Loss: 2.29. Train Acc : 15.00 \n",
      "Generation # 410. Train Loss: 2.26. Train Acc : 17.00 \n",
      "Generation # 415. Train Loss: 2.28. Train Acc : 10.00 \n",
      "Generation # 420. Train Loss: 2.28. Train Acc : 16.00 \n",
      "Generation # 425. Train Loss: 2.25. Train Acc : 15.00 \n",
      "Generation # 430. Train Loss: 2.29. Train Acc : 13.00 \n",
      "Generation # 435. Train Loss: 2.27. Train Acc : 16.00 \n",
      "Generation # 440. Train Loss: 2.27. Train Acc : 13.00 \n",
      "Generation # 445. Train Loss: 2.27. Train Acc : 14.00 \n",
      "Generation # 450. Train Loss: 2.26. Train Acc : 15.00 \n",
      "Generation # 455. Train Loss: 2.25. Train Acc : 15.00 \n",
      "Generation # 460. Train Loss: 2.26. Train Acc : 17.00 \n",
      "Generation # 465. Train Loss: 2.30. Train Acc : 11.00 \n",
      "Generation # 470. Train Loss: 2.22. Train Acc : 18.00 \n",
      "Generation # 475. Train Loss: 2.27. Train Acc : 17.00 \n",
      "Generation # 480. Train Loss: 2.23. Train Acc : 17.00 \n",
      "Generation # 485. Train Loss: 2.27. Train Acc : 15.00 \n",
      "Generation # 490. Train Loss: 2.25. Train Acc : 19.00 \n",
      "Generation # 495. Train Loss: 2.28. Train Acc : 20.00 \n",
      "Generation # 500. Train Loss: 2.28. Train Acc : 12.00 \n"
     ]
    }
   ],
   "source": [
    "# Start training loop\n",
    "train_loss = []\n",
    "train_acc = []\n",
    "\n",
    "for i in range(generations):\n",
    "    rand_index = np.random.choice(len(data), size=batch_size)\n",
    "    rand_x = data[rand_index]\n",
    "    rand_x = np.expand_dims(rand_x, 3)\n",
    "    rand_y = label['label'][rand_index]\n",
    "    train_dict = {x_input: rand_x, y_target: rand_y}\n",
    "    \n",
    "    sess.run(train_step, feed_dict=train_dict)\n",
    "    temp_train_loss, temp_train_preds = sess.run([loss, prediction], feed_dict=train_dict)    \n",
    "    temp_train_acc = get_accuracy(temp_train_preds, rand_y)\n",
    "       \n",
    "    \n",
    "    if (i+1) % eval_every == 0:\n",
    "       \n",
    "        # Record and print results\n",
    "        train_loss.append(temp_train_loss)\n",
    "        train_acc.append(temp_train_acc)\n",
    "        acc_and_loss = [(i+1), temp_train_loss, temp_train_acc]\n",
    "        acc_and_loss = [np.round(x,2) for x in acc_and_loss]\n",
    "        print('Generation # {}. Train Loss: {:.2f}. Train Acc : {:.2f} '.format(*acc_and_loss))\n",
    "        \n",
    "\n",
    "\n",
    "        "
   ]
  },
  {
   "cell_type": "code",
   "execution_count": 27,
   "metadata": {},
   "outputs": [
    {
     "name": "stdout",
     "output_type": "stream",
     "text": [
      "Model saved in file\n"
     ]
    }
   ],
   "source": [
    "saver.save(sess,\"D:/Eun/CNN4PM/savedModel/1_CNN4PM.ckpt\", global_step=499)\n",
    "#saver.save(sess, \"D:\\Eun\\CNN4PM\\savedModel\\training_model.ckpt\", global_step=499)\n",
    "print('Model saved in file')"
   ]
  },
  {
   "cell_type": "code",
   "execution_count": 28,
   "metadata": {},
   "outputs": [
    {
     "data": {
      "image/png": "[encoded data removed]",
      "text/plain": [
       "<matplotlib.figure.Figure at 0x2aef0bbe208>"
      ]
     },
     "metadata": {},
     "output_type": "display_data"
    },
    {
     "data": {
      "image/png": "[encoded data removed]",
      "text/plain": [
       "<matplotlib.figure.Figure at 0x2aef0aab198>"
      ]
     },
     "metadata": {},
     "output_type": "display_data"
    }
   ],
   "source": [
    "# Matlotlib code to plot the loss and accuracies\n",
    "eval_indices = range(0, generations, eval_every)\n",
    "# Plot loss over time\n",
    "plt.plot(eval_indices, train_loss, 'k-')\n",
    "plt.title('Softmax Loss per Generation')\n",
    "plt.xlabel('Generation')\n",
    "plt.ylabel('Softmax Loss')\n",
    "plt.show()\n",
    "\n",
    "# Plot train and test accuracy\n",
    "plt.plot(eval_indices, train_acc, 'k-', label='Train Set Accuracy')\n",
    "plt.title('Train and Test Accuracy')\n",
    "plt.xlabel('Generation')\n",
    "plt.ylabel('Accuracy')\n",
    "plt.legend(loc='lower right')\n",
    "plt.show()\n"
   ]
  },
  {
   "cell_type": "code",
   "execution_count": 31,
   "metadata": {},
   "outputs": [],
   "source": [
    "result = sess.run(prediction, feed_dict={x_input: np.reshape(train_xdata[:100],[100,28,28,1])})"
   ]
  },
  {
   "cell_type": "code",
   "execution_count": 37,
   "metadata": {},
   "outputs": [
    {
     "data": {
      "image/png": "[encoded data removed]",
      "text/plain": [
       "<matplotlib.figure.Figure at 0x2aef94b6470>"
      ]
     },
     "metadata": {},
     "output_type": "display_data"
    }
   ],
   "source": [
    "\n",
    "\n",
    "num=random.randrange(0,100)\n",
    "plt.imshow(train_xdata[num])\n",
    "plt.title('Actual: ' + str(label['label'][num]) + ' Pred: ' + str(np.argmax(result[num], axis=0)))\n",
    "plt.show()"
   ]
  },
  {
   "cell_type": "code",
   "execution_count": null,
   "metadata": {},
   "outputs": [],
   "source": []
  },
  {
   "cell_type": "code",
   "execution_count": null,
   "metadata": {},
   "outputs": [],
   "source": []
  }
 ],
 "metadata": {
  "kernelspec": {
   "display_name": "Python 3",
   "language": "python",
   "name": "python3"
  },
  "language_info": {
   "codemirror_mode": {
    "name": "ipython",
    "version": 3
   },
   "file_extension": ".py",
   "mimetype": "text/x-python",
   "name": "python",
   "nbconvert_exporter": "python",
   "pygments_lexer": "ipython3",
   "version": "3.6.4"
  }
 },
 "nbformat": 4,
 "nbformat_minor": 2
}
