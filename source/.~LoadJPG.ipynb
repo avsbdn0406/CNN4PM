{
 "cells": [
  {
   "cell_type": "code",
   "execution_count": 10,
   "metadata": {},
   "outputs": [],
   "source": [
    "import matplotlib.pyplot as plt\n",
    "import numpy as np\n",
    "import tensorflow as tf\n",
    "import os\n",
    "import random\n",
    "\n"
   ]
  },
  {
   "cell_type": "code",
   "execution_count": 19,
   "metadata": {},
   "outputs": [],
   "source": [
    "# Start a graph session\n",
    "sess = tf.Session()\n",
    "\n",
    "\n",
    "FLAGS = tf.app.flags.FLAGS # 프로젝트 전역으로 변수를 공유합니다\n",
    "FLAGS.width = 28\n",
    "FLAGS.height = 28\n",
    "FLAGS.depth = 1\n",
    "batch_index = 0\n",
    "filenames = []\n"
   ]
  },
  {
   "cell_type": "code",
   "execution_count": 20,
   "metadata": {},
   "outputs": [],
   "source": [
    "def get_filenames(data_set): # 하위 디렉토리를 돌면서 파일 이름을 가져옵니다\n",
    "    global filenames\n",
    "    labels = []\n",
    "\n",
    "    with open('D:/Eun/CNN4PM/data/ML_Patient monitor data/RCM_PR_1.CSV') as f:\n",
    "        for line in f: # 파일에서 라인 읽어옴\n",
    "            inner_list = [elt.strip() for elt in line.split(',')]\n",
    "            labels += inner_list # label을 리스트에 넣어줍니다\n",
    "    print(labels[3])\n",
    "\n",
    "    for i, label in enumerate(labels): # label 디렉토리 안에 파일들을 검색해서 리스트에\n",
    "        list = os.listdir(FLAGS.data_dir  + '/' + data_set + '/' + label)\n",
    "        for filename in list:\n",
    "            # 파일 이름과 label에 해당하는 번호를 묶어서 리스트에 추가합니다\n",
    "            filenames.append([label + '/' + filename, i]) \n",
    "\n",
    "    random.shuffle(filenames) # 파일이름, label 쌍으로 되어있는 리스트를 섞어줍니다"
   ]
  },
  {
   "cell_type": "code",
   "execution_count": 13,
   "metadata": {},
   "outputs": [],
   "source": [
    "def get_data_jpg(sess, data_set, batch_size):\n",
    "    global batch_index, filenames\n",
    "\n",
    "    if len(filenames) == 0: get_filenames(data_set) # 파일 이름들을 읽어오지 않았다면 읽어옵니다\n",
    "    max = len(filenames)\n",
    "\n",
    "    # 현재 index 부터 batch_size 만큼 읽어오기 위해 범위를 정해줍니다\n",
    "    begin = batch_index\n",
    "    end = batch_index + batch_size\n",
    "\n",
    "    if end >= max: # 범위가 넘어가면 index를 다시 0으로 설정합니다\n",
    "        end = max\n",
    "        batch_index = 0\n",
    "\n",
    "    x_data = np.array([])\n",
    "    y_data = np.zeros((batch_size, FLAGS.num_class)) # one hot encoding을 위해 0으로 채워진 리스트를 만듭니다\n",
    "    index = 0\n"
   ]
  },
  {
   "cell_type": "code",
   "execution_count": 16,
   "metadata": {},
   "outputs": [
    {
     "ename": "IndentationError",
     "evalue": "unindent does not match any outer indentation level (<ipython-input-16-779458e33614>, line 21)",
     "output_type": "error",
     "traceback": [
      "\u001b[1;36m  File \u001b[1;32m\"<ipython-input-16-779458e33614>\"\u001b[1;36m, line \u001b[1;32m21\u001b[0m\n\u001b[1;33m    batch_index += batch_size\u001b[0m\n\u001b[1;37m                             ^\u001b[0m\n\u001b[1;31mIndentationError\u001b[0m\u001b[1;31m:\u001b[0m unindent does not match any outer indentation level\n"
     ]
    }
   ],
   "source": [
    "  for i in range(begin, end):\n",
    "        # 파일을 얽어옵니다\n",
    "        with tf.gfile.FastGFile(FLAGS.data_dir + '/' + data_set + '/' + filenames[i][0], 'rb') as f:\n",
    "            image_data = f.read()\n",
    "\n",
    "        # JPEG 이미지이므로 decoding을 해야 합니다\n",
    "        decode_image = tf.image.decode_jpg(image_data, channels=FLAGS.depth)\n",
    "        resized_image = tf.image.resize_images(decode_image, FLAGS.height, FLAGS.width, method=1) \n",
    "        image = sess.run(resized_image)\n",
    "        \n",
    "        x_data = np.append(x_data, np.asarray(image.data, dtype='float32')) / 255 \n",
    "        y_data[index][filenames[i][1]] = 1 \n",
    "        index += 1\n",
    "\n",
    "        # 변환된 이미지를 확인하려면 아래 주석을 해제하세요\n",
    "        print(image.shape, len(image.data))\n",
    "        im = np.reshape(image.data, (28, 28, 1))\n",
    "        plt.imshow(im)\n",
    "        plt.show()\n",
    "\n",
    "    batch_index += batch_size\n",
    "\n",
    "    try:\n",
    "        # 깨진 JPEG 이미지는 여기서 exception이 발생합니다\n",
    "        # Tensorflow에 넣기 위해 2D로 shape을 변경합니다\n",
    "        x_data = x_data.reshape(batch_size, FLAGS.height * FLAGS.width * FLAGS.depth)\n",
    "    except:\n",
    "        return None, None\n",
    "\n",
    "    return x_data, y_data"
   ]
  },
  {
   "cell_type": "code",
   "execution_count": null,
   "metadata": {},
   "outputs": [],
   "source": []
  }
 ],
 "metadata": {
  "kernelspec": {
   "display_name": "Python 3",
   "language": "python",
   "name": "python3"
  },
  "language_info": {
   "codemirror_mode": {
    "name": "ipython",
    "version": 3
   },
   "file_extension": ".py",
   "mimetype": "text/x-python",
   "name": "python",
   "nbconvert_exporter": "python",
   "pygments_lexer": "ipython3",
   "version": "3.6.3"
  }
 },
 "nbformat": 4,
 "nbformat_minor": 2
}
