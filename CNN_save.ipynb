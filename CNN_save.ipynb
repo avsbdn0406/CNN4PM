{
 "cells": [
  {
   "cell_type": "markdown",
   "metadata": {},
   "source": [
    "# CNN for Patient Monitor\n",
    "---\n",
    "to save model"
   ]
  },
  {
   "cell_type": "code",
   "execution_count": 1,
   "metadata": {},
   "outputs": [],
   "source": [
    "# Introductory CNN Model: MNIST Digits\n",
    "#---------------------------------------\n",
    "#\n",
    "# In this example, we will download the MNIST handwritten\n",
    "# digits and create a simple CNN network to predict the\n",
    "# digit category (0-9)\n",
    "\n",
    "import matplotlib.pyplot as plt\n",
    "import numpy as np\n",
    "import tensorflow as tf\n",
    "from tensorflow.contrib.learn.python.learn.datasets.mnist import read_data_sets\n",
    "from tensorflow.python.framework import ops\n",
    "ops.reset_default_graph()\n"
   ]
  },
  {
   "cell_type": "code",
   "execution_count": 2,
   "metadata": {},
   "outputs": [
    {
     "name": "stdout",
     "output_type": "stream",
     "text": [
      "Extracting temp\\train-images-idx3-ubyte.gz\n",
      "Extracting temp\\train-labels-idx1-ubyte.gz\n",
      "Extracting temp\\t10k-images-idx3-ubyte.gz\n",
      "Extracting temp\\t10k-labels-idx1-ubyte.gz\n"
     ]
    }
   ],
   "source": [
    "# Start a graph session\n",
    "sess = tf.Session()\n",
    "\n",
    "# Load data\n",
    "data_dir = 'temp'\n",
    "mnist = read_data_sets(data_dir)"
   ]
  },
  {
   "cell_type": "code",
   "execution_count": 3,
   "metadata": {},
   "outputs": [],
   "source": [
    "# Convert images into 28x28 (they are downloaded as 1x784)\n",
    "train_xdata = np.array([np.reshape(x, (28,28)) for x in mnist.train.images])\n",
    "test_xdata = np.array([np.reshape(x, (28,28)) for x in mnist.test.images])\n",
    "\n",
    "# Convert labels into one-hot encoded vectors\n",
    "train_labels = mnist.train.labels\n",
    "test_labels = mnist.test.labels\n"
   ]
  },
  {
   "cell_type": "code",
   "execution_count": 4,
   "metadata": {},
   "outputs": [],
   "source": [
    "# Set model parameters\n",
    "batch_size = 100\n",
    "learning_rate = 0.005\n",
    "evaluation_size = 500\n",
    "image_width = train_xdata[0].shape[0]\n",
    "image_height = train_xdata[0].shape[1]\n",
    "target_size = max(train_labels) + 1\n",
    "num_channels = 1 # greyscale = 1 channel\n",
    "generations = 500\n",
    "eval_every = 5\n",
    "conv1_features = 25\n",
    "conv2_features = 50\n",
    "max_pool_size1 = 2 # NxN window for 1st max pool layer\n",
    "max_pool_size2 = 2 # NxN window for 2nd max pool layer\n",
    "fully_connected_size1 = 100"
   ]
  },
  {
   "cell_type": "code",
   "execution_count": 5,
   "metadata": {},
   "outputs": [],
   "source": [
    "# Declare model placeholders\n",
    "x_input_shape = (batch_size, image_width, image_height, num_channels)\n",
    "x_input = tf.placeholder(tf.float32, shape=x_input_shape)\n",
    "y_target = tf.placeholder(tf.int32, shape=(batch_size))"
   ]
  },
  {
   "cell_type": "code",
   "execution_count": 6,
   "metadata": {},
   "outputs": [],
   "source": [
    "eval_input_shape = (evaluation_size, image_width, image_height, num_channels)\n",
    "eval_input = tf.placeholder(tf.float32, shape=eval_input_shape)\n",
    "eval_target = tf.placeholder(tf.int32, shape=(evaluation_size))"
   ]
  },
  {
   "cell_type": "code",
   "execution_count": 7,
   "metadata": {},
   "outputs": [],
   "source": [
    "# Declare model parameters\n",
    "conv1_weight = tf.Variable(tf.truncated_normal([4, 4, num_channels, conv1_features],\n",
    "                                               stddev=0.1, dtype=tf.float32))\n",
    "conv1_bias = tf.Variable(tf.zeros([conv1_features], dtype=tf.float32))\n",
    "\n",
    "conv2_weight = tf.Variable(tf.truncated_normal([4, 4, conv1_features, conv2_features],\n",
    "                                               stddev=0.1, dtype=tf.float32))\n",
    "conv2_bias = tf.Variable(tf.zeros([conv2_features], dtype=tf.float32))"
   ]
  },
  {
   "cell_type": "code",
   "execution_count": 8,
   "metadata": {},
   "outputs": [],
   "source": [
    "# fully connected variables\n",
    "resulting_width = image_width // (max_pool_size1 * max_pool_size2)\n",
    "resulting_height = image_height // (max_pool_size1 * max_pool_size2)\n",
    "full1_input_size = resulting_width * resulting_height * conv2_features"
   ]
  },
  {
   "cell_type": "code",
   "execution_count": 9,
   "metadata": {},
   "outputs": [],
   "source": [
    "full1_weight = tf.Variable(tf.truncated_normal([full1_input_size, fully_connected_size1],\n",
    "                          stddev=0.1, dtype=tf.float32))\n",
    "full1_bias = tf.Variable(tf.truncated_normal([fully_connected_size1], stddev=0.1, dtype=tf.float32))\n",
    "full2_weight = tf.Variable(tf.truncated_normal([fully_connected_size1, target_size],\n",
    "                                               stddev=0.1, dtype=tf.float32))\n",
    "full2_bias = tf.Variable(tf.truncated_normal([target_size], stddev=0.1, dtype=tf.float32))"
   ]
  },
  {
   "cell_type": "code",
   "execution_count": 10,
   "metadata": {},
   "outputs": [],
   "source": [
    "# Initialize Model Operations\n",
    "def my_conv_net(input_data):\n",
    "    # First Conv-ReLU-MaxPool Layer\n",
    "    conv1 = tf.nn.conv2d(input_data, conv1_weight, strides=[1, 1, 1, 1], padding='SAME',)\n",
    "    relu1 = tf.nn.relu(tf.nn.bias_add(conv1, conv1_bias))\n",
    "    max_pool1 = tf.nn.max_pool(relu1, ksize=[1, max_pool_size1, max_pool_size1, 1],\n",
    "                               strides=[1, max_pool_size1, max_pool_size1, 1], padding='SAME')\n",
    "\n",
    "    # Second Conv-ReLU-MaxPool Layer\n",
    "    conv2 = tf.nn.conv2d(max_pool1, conv2_weight, strides=[1, 1, 1, 1], padding='SAME')\n",
    "    relu2 = tf.nn.relu(tf.nn.bias_add(conv2, conv2_bias))\n",
    "    max_pool2 = tf.nn.max_pool(relu2, ksize=[1, max_pool_size2, max_pool_size2, 1],\n",
    "                               strides=[1, max_pool_size2, max_pool_size2, 1], padding='SAME')\n",
    "\n",
    "    # Transform Output into a 1xN layer for next fully connected layer\n",
    "    final_conv_shape = max_pool2.get_shape().as_list()\n",
    "    final_shape = final_conv_shape[1] * final_conv_shape[2] * final_conv_shape[3]\n",
    "    flat_output = tf.reshape(max_pool2, [final_conv_shape[0], final_shape])\n",
    "\n",
    "    # First Fully Connected Layer\n",
    "    fully_connected1 = tf.nn.relu(tf.add(tf.matmul(flat_output, full1_weight), full1_bias))\n",
    "\n",
    "    # Second Fully Connected Layer\n",
    "    final_model_output = tf.add(tf.matmul(fully_connected1, full2_weight), full2_bias,  name=\"operation_restore\")\n",
    "    \n",
    "    return(final_model_output)"
   ]
  },
  {
   "cell_type": "code",
   "execution_count": 11,
   "metadata": {},
   "outputs": [],
   "source": [
    "model_output = my_conv_net(x_input)                # training\n",
    "test_model_output = my_conv_net(eval_input)        # evaluation (validate)\n",
    "\n",
    "# Declare Loss Function (softmax cross entropy)\n",
    "loss = tf.reduce_mean(tf.nn.sparse_softmax_cross_entropy_with_logits(labels=y_target, logits=model_output))\n"
   ]
  },
  {
   "cell_type": "markdown",
   "metadata": {},
   "source": [
    "# Prediction Function\n",
    "---\n",
    "model output을 function의 input으로"
   ]
  },
  {
   "cell_type": "code",
   "execution_count": 12,
   "metadata": {},
   "outputs": [],
   "source": [
    "# Create a prediction function\n",
    "prediction = tf.nn.softmax(model_output,name = 'prediction')               #to training set\n",
    "test_prediction = tf.nn.softmax(test_model_output,name='test_prediction')     # to test set (validate) \n"
   ]
  },
  {
   "cell_type": "code",
   "execution_count": 13,
   "metadata": {},
   "outputs": [],
   "source": [
    "# Create accuracy function\n",
    "def get_accuracy(logits, targets):\n",
    "    batch_predictions = np.argmax(logits, axis=1)\n",
    "    num_correct = np.sum(np.equal(batch_predictions, targets))\n",
    "    return(100. * num_correct/batch_predictions.shape[0])\n"
   ]
  },
  {
   "cell_type": "code",
   "execution_count": 14,
   "metadata": {},
   "outputs": [],
   "source": [
    "# Create an optimizer\n",
    "my_optimizer = tf.train.MomentumOptimizer(learning_rate, 0.9)\n",
    "train_step = my_optimizer.minimize(loss)\n",
    "\n",
    "\n",
    "# Initialize Variables\n",
    "init = tf.global_variables_initializer()\n",
    "sess.run(init)"
   ]
  },
  {
   "cell_type": "code",
   "execution_count": 15,
   "metadata": {},
   "outputs": [],
   "source": [
    "# ========= Save models =============\n",
    "saver = tf.train.Saver()\n"
   ]
  },
  {
   "cell_type": "code",
   "execution_count": null,
   "metadata": {},
   "outputs": [
    {
     "name": "stdout",
     "output_type": "stream",
     "text": [
      "Generation # 5. Train Loss: 2.18. Train Acc : 26.00 )\n",
      "Generation # 10. Train Loss: 2.05. Train Acc : 42.00 )\n",
      "Generation # 15. Train Loss: 1.79. Train Acc : 60.00 )\n",
      "Generation # 20. Train Loss: 1.56. Train Acc : 62.00 )\n",
      "Generation # 25. Train Loss: 1.31. Train Acc : 68.00 )\n",
      "Generation # 30. Train Loss: 1.00. Train Acc : 72.00 )\n",
      "Generation # 35. Train Loss: 0.96. Train Acc : 66.00 )\n",
      "Generation # 40. Train Loss: 0.66. Train Acc : 81.00 )\n",
      "Generation # 45. Train Loss: 0.54. Train Acc : 85.00 )\n",
      "Generation # 50. Train Loss: 0.54. Train Acc : 84.00 )\n",
      "Generation # 55. Train Loss: 0.48. Train Acc : 87.00 )\n",
      "Generation # 60. Train Loss: 0.68. Train Acc : 82.00 )\n",
      "Generation # 65. Train Loss: 0.43. Train Acc : 82.00 )\n",
      "Generation # 70. Train Loss: 0.55. Train Acc : 85.00 )\n",
      "Generation # 75. Train Loss: 0.40. Train Acc : 85.00 )\n",
      "Generation # 80. Train Loss: 0.37. Train Acc : 91.00 )\n",
      "Generation # 85. Train Loss: 0.51. Train Acc : 84.00 )\n",
      "Generation # 90. Train Loss: 0.47. Train Acc : 80.00 )\n",
      "Generation # 95. Train Loss: 0.33. Train Acc : 87.00 )\n",
      "Generation # 100. Train Loss: 0.32. Train Acc : 87.00 )\n",
      "Generation # 105. Train Loss: 0.45. Train Acc : 86.00 )\n",
      "Generation # 110. Train Loss: 0.37. Train Acc : 90.00 )\n",
      "Generation # 115. Train Loss: 0.31. Train Acc : 92.00 )\n",
      "Generation # 120. Train Loss: 0.36. Train Acc : 90.00 )\n",
      "Generation # 125. Train Loss: 0.32. Train Acc : 93.00 )\n",
      "Generation # 130. Train Loss: 0.28. Train Acc : 92.00 )\n",
      "Generation # 135. Train Loss: 0.29. Train Acc : 91.00 )\n",
      "Generation # 140. Train Loss: 0.26. Train Acc : 96.00 )\n",
      "Generation # 145. Train Loss: 0.26. Train Acc : 92.00 )\n",
      "Generation # 150. Train Loss: 0.19. Train Acc : 96.00 )\n",
      "Generation # 155. Train Loss: 0.17. Train Acc : 94.00 )\n",
      "Generation # 160. Train Loss: 0.29. Train Acc : 91.00 )\n",
      "Generation # 165. Train Loss: 0.10. Train Acc : 99.00 )\n",
      "Generation # 170. Train Loss: 0.26. Train Acc : 95.00 )\n",
      "Generation # 175. Train Loss: 0.29. Train Acc : 92.00 )\n",
      "Generation # 180. Train Loss: 0.19. Train Acc : 96.00 )\n",
      "Generation # 185. Train Loss: 0.17. Train Acc : 94.00 )\n",
      "Generation # 190. Train Loss: 0.12. Train Acc : 97.00 )\n",
      "Generation # 195. Train Loss: 0.17. Train Acc : 93.00 )\n",
      "Generation # 200. Train Loss: 0.20. Train Acc : 96.00 )\n",
      "Generation # 205. Train Loss: 0.14. Train Acc : 95.00 )\n",
      "Generation # 210. Train Loss: 0.25. Train Acc : 90.00 )\n",
      "Generation # 215. Train Loss: 0.15. Train Acc : 94.00 )\n",
      "Generation # 220. Train Loss: 0.27. Train Acc : 96.00 )\n",
      "Generation # 225. Train Loss: 0.21. Train Acc : 94.00 )\n",
      "Generation # 230. Train Loss: 0.25. Train Acc : 94.00 )\n",
      "Generation # 235. Train Loss: 0.16. Train Acc : 94.00 )\n",
      "Generation # 240. Train Loss: 0.12. Train Acc : 97.00 )\n",
      "Generation # 245. Train Loss: 0.12. Train Acc : 98.00 )\n",
      "Generation # 250. Train Loss: 0.36. Train Acc : 91.00 )\n",
      "Generation # 255. Train Loss: 0.19. Train Acc : 94.00 )\n",
      "Generation # 260. Train Loss: 0.20. Train Acc : 93.00 )\n",
      "Generation # 265. Train Loss: 0.15. Train Acc : 95.00 )\n",
      "Generation # 270. Train Loss: 0.19. Train Acc : 94.00 )\n",
      "Generation # 275. Train Loss: 0.20. Train Acc : 95.00 )\n",
      "Generation # 280. Train Loss: 0.26. Train Acc : 93.00 )\n",
      "Generation # 285. Train Loss: 0.15. Train Acc : 94.00 )\n",
      "Generation # 290. Train Loss: 0.18. Train Acc : 96.00 )\n",
      "Generation # 295. Train Loss: 0.18. Train Acc : 93.00 )\n",
      "Generation # 300. Train Loss: 0.22. Train Acc : 93.00 )\n",
      "Generation # 305. Train Loss: 0.30. Train Acc : 90.00 )\n",
      "Generation # 310. Train Loss: 0.20. Train Acc : 92.00 )\n",
      "Generation # 315. Train Loss: 0.18. Train Acc : 94.00 )\n",
      "Generation # 320. Train Loss: 0.16. Train Acc : 94.00 )\n",
      "Generation # 325. Train Loss: 0.27. Train Acc : 91.00 )\n",
      "Generation # 330. Train Loss: 0.17. Train Acc : 92.00 )\n",
      "Generation # 335. Train Loss: 0.19. Train Acc : 94.00 )\n",
      "Generation # 340. Train Loss: 0.22. Train Acc : 93.00 )\n",
      "Generation # 345. Train Loss: 0.21. Train Acc : 92.00 )\n",
      "Generation # 350. Train Loss: 0.20. Train Acc : 94.00 )\n",
      "Generation # 355. Train Loss: 0.17. Train Acc : 92.00 )\n",
      "Generation # 360. Train Loss: 0.16. Train Acc : 95.00 )\n",
      "Generation # 365. Train Loss: 0.11. Train Acc : 97.00 )\n",
      "Generation # 370. Train Loss: 0.24. Train Acc : 93.00 )\n",
      "Generation # 375. Train Loss: 0.18. Train Acc : 95.00 )\n",
      "Generation # 380. Train Loss: 0.24. Train Acc : 93.00 )\n",
      "Generation # 385. Train Loss: 0.11. Train Acc : 96.00 )\n",
      "Generation # 390. Train Loss: 0.13. Train Acc : 97.00 )\n",
      "Generation # 395. Train Loss: 0.20. Train Acc : 93.00 )\n",
      "Generation # 400. Train Loss: 0.21. Train Acc : 93.00 )\n",
      "Generation # 405. Train Loss: 0.12. Train Acc : 96.00 )\n",
      "Generation # 410. Train Loss: 0.15. Train Acc : 95.00 )\n",
      "Generation # 415. Train Loss: 0.16. Train Acc : 96.00 )\n",
      "Generation # 420. Train Loss: 0.17. Train Acc : 94.00 )\n",
      "Generation # 425. Train Loss: 0.19. Train Acc : 93.00 )\n",
      "Generation # 430. Train Loss: 0.15. Train Acc : 93.00 )\n",
      "Generation # 435. Train Loss: 0.23. Train Acc : 92.00 )\n",
      "Generation # 440. Train Loss: 0.08. Train Acc : 97.00 )\n",
      "Generation # 445. Train Loss: 0.04. Train Acc : 100.00 )\n",
      "Generation # 450. Train Loss: 0.14. Train Acc : 95.00 )\n",
      "Generation # 455. Train Loss: 0.15. Train Acc : 94.00 )\n",
      "Generation # 460. Train Loss: 0.08. Train Acc : 98.00 )\n",
      "Generation # 465. Train Loss: 0.25. Train Acc : 94.00 )\n",
      "Generation # 470. Train Loss: 0.12. Train Acc : 98.00 )\n",
      "Generation # 475. Train Loss: 0.08. Train Acc : 97.00 )\n",
      "Generation # 480. Train Loss: 0.13. Train Acc : 94.00 )\n",
      "Generation # 485. Train Loss: 0.17. Train Acc : 93.00 )\n",
      "Generation # 490. Train Loss: 0.10. Train Acc : 97.00 )\n",
      "Generation # 495. Train Loss: 0.16. Train Acc : 95.00 )\n",
      "Generation # 500. Train Loss: 0.15. Train Acc : 94.00 )\n"
     ]
    }
   ],
   "source": [
    "# Start training loop\n",
    "train_loss = []\n",
    "train_acc = []\n",
    "test_acc = []\n",
    "for i in range(generations):\n",
    "    rand_index = np.random.choice(len(train_xdata), size=batch_size)\n",
    "    rand_x = train_xdata[rand_index]\n",
    "    rand_x = np.expand_dims(rand_x, 3)\n",
    "    rand_y = train_labels[rand_index]\n",
    "    train_dict = {x_input: rand_x, y_target: rand_y}\n",
    "    \n",
    "    sess.run(train_step, feed_dict=train_dict)\n",
    "    temp_train_loss, temp_train_preds = sess.run([loss, prediction], feed_dict=train_dict)\n",
    "    temp_train_acc = get_accuracy(temp_train_preds, rand_y)\n",
    "    \n",
    "    \n",
    "    if (i+1) % eval_every == 0:\n",
    "       \n",
    "        # Record and print results\n",
    "        train_loss.append(temp_train_loss)\n",
    "        train_acc.append(temp_train_acc)\n",
    "        acc_and_loss = [(i+1), temp_train_loss, temp_train_acc]\n",
    "        acc_and_loss = [np.round(x,2) for x in acc_and_loss]\n",
    "        print('Generation # {}. Train Loss: {:.2f}. Train Acc : {:.2f} '.format(*acc_and_loss))\n",
    "        \n",
    "        if i==(generations-1):\n",
    "            saver.save(sess, \"D:\\Eun\\CNN4PM\\training_model.ckpt\", global_step=(i+1))\n",
    "            print(\"Model saved in file\")\n",
    "       \n",
    "        "
   ]
  },
  {
   "cell_type": "code",
   "execution_count": 17,
   "metadata": {},
   "outputs": [
    {
     "name": "stdout",
     "output_type": "stream",
     "text": [
      "ERROR! Session/line number was not unique in database. History logging moved to new session 129\n"
     ]
    },
    {
     "data": {
      "image/png": "[encoded data removed]",
      "text/plain": [
       "<matplotlib.figure.Figure at 0x1e779ec50b8>"
      ]
     },
     "metadata": {},
     "output_type": "display_data"
    },
    {
     "data": {
      "image/png": "[encoded data removed]",
      "text/plain": [
       "<matplotlib.figure.Figure at 0x1e974371e80>"
      ]
     },
     "metadata": {},
     "output_type": "display_data"
    }
   ],
   "source": [
    "# Matlotlib code to plot the loss and accuracies\n",
    "eval_indices = range(0, generations, eval_every)\n",
    "# Plot loss over time\n",
    "plt.plot(eval_indices, train_loss, 'k-')\n",
    "plt.title('Softmax Loss per Generation')\n",
    "plt.xlabel('Generation')\n",
    "plt.ylabel('Softmax Loss')\n",
    "plt.show()\n",
    "\n",
    "# Plot train and test accuracy\n",
    "plt.plot(eval_indices, train_acc, 'k-', label='Train Set Accuracy')\n",
    "plt.title('Train and Test Accuracy')\n",
    "plt.xlabel('Generation')\n",
    "plt.ylabel('Accuracy')\n",
    "plt.legend(loc='lower right')\n",
    "plt.show()\n",
    "\n",
    "# Plot some samples\n",
    "# Plot the 6 of the last batch results:\n",
    "actuals = rand_y[0:6]\n",
    "predictions = np.argmax(temp_train_preds,axis=1)[0:6]\n",
    "images = np.squeeze(rand_x[0:6])\n",
    "\n",
    "Nrows = 2\n",
    "Ncols = 3\n",
    "for i in range(6):\n",
    "    plt.subplot(Nrows, Ncols, i+1)\n",
    "    plt.imshow(np.reshape(images[i], [28,28]), cmap='Greys_r')\n",
    "    plt.title('Actual: ' + str(actuals[i]) + ' Pred: ' + str(predictions[i]),\n",
    "                               fontsize=10)\n",
    "    frame = plt.gca()\n",
    "    frame.axes.get_xaxis().set_visible(False)\n",
    "    frame.axes.get_yaxis().set_visible(False)"
   ]
  },
  {
   "cell_type": "code",
   "execution_count": null,
   "metadata": {},
   "outputs": [],
   "source": []
  }
 ],
 "metadata": {
  "kernelspec": {
   "display_name": "Python 3",
   "language": "python",
   "name": "python3"
  },
  "language_info": {
   "codemirror_mode": {
    "name": "ipython",
    "version": 3
   },
   "file_extension": ".py",
   "mimetype": "text/x-python",
   "name": "python",
   "nbconvert_exporter": "python",
   "pygments_lexer": "ipython3",
   "version": "3.6.3"
  }
 },
 "nbformat": 4,
 "nbformat_minor": 2
}
